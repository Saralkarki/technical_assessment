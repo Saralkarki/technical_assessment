{
 "cells": [
  {
   "cell_type": "code",
   "execution_count": 1,
   "metadata": {},
   "outputs": [],
   "source": [
    "import pandas as pd\n",
    "import spacy\n",
    "from spacy import displacy\n",
    "\n",
    "import matplotlib.pyplot as plt\n",
    "\n",
    "from collections import Counter\n",
    "nlp = spacy.load(\"en_core_web_sm\")"
   ]
  },
  {
   "cell_type": "code",
   "execution_count": 2,
   "metadata": {},
   "outputs": [],
   "source": [
    "df_1 = pd.read_csv('articles_1.csv')\n",
    "df_2 = pd.read_csv('articles_2.csv')\n",
    "df = pd.concat([df_1, df_2], ignore_index=True)\n"
   ]
  },
  {
   "cell_type": "code",
   "execution_count": 4,
   "metadata": {},
   "outputs": [
    {
     "data": {
      "text/html": [
       "<div>\n",
       "<style scoped>\n",
       "    .dataframe tbody tr th:only-of-type {\n",
       "        vertical-align: middle;\n",
       "    }\n",
       "\n",
       "    .dataframe tbody tr th {\n",
       "        vertical-align: top;\n",
       "    }\n",
       "\n",
       "    .dataframe thead th {\n",
       "        text-align: right;\n",
       "    }\n",
       "</style>\n",
       "<table border=\"1\" class=\"dataframe\">\n",
       "  <thead>\n",
       "    <tr style=\"text-align: right;\">\n",
       "      <th></th>\n",
       "      <th>article_body</th>\n",
       "      <th>article_date</th>\n",
       "      <th>article_title</th>\n",
       "      <th>category_1</th>\n",
       "      <th>category_2</th>\n",
       "      <th>category_3</th>\n",
       "      <th>image_link</th>\n",
       "    </tr>\n",
       "  </thead>\n",
       "  <tbody>\n",
       "    <tr>\n",
       "      <th>0</th>\n",
       "      <td>Trina Solar recently announced that it has beg...</td>\n",
       "      <td>2019-06-13</td>\n",
       "      <td>Trina Solar launches N-type i-TOPCon double-gl...</td>\n",
       "      <td>Power</td>\n",
       "      <td>Solar</td>\n",
       "      <td>PV</td>\n",
       "      <td>https://www.nsenergybusiness.com/wp-content/up...</td>\n",
       "    </tr>\n",
       "    <tr>\n",
       "      <th>1</th>\n",
       "      <td>Jumbo has been selected by wpd to transport an...</td>\n",
       "      <td>2019-06-13</td>\n",
       "      <td>Jumbo to install WTG substructures for Yunlin ...</td>\n",
       "      <td>Power</td>\n",
       "      <td>Wind</td>\n",
       "      <td>Offshore</td>\n",
       "      <td>https://www.nsenergybusiness.com/wp-content/up...</td>\n",
       "    </tr>\n",
       "    <tr>\n",
       "      <th>3</th>\n",
       "      <td>French consultancy Capgemini's latest report h...</td>\n",
       "      <td>2019-06-13</td>\n",
       "      <td>Just 20% of energy companies are using ‘under-...</td>\n",
       "      <td>Power</td>\n",
       "      <td>Automation</td>\n",
       "      <td>Features &amp; Analysis</td>\n",
       "      <td>https://www.nsenergybusiness.com/wp-content/up...</td>\n",
       "    </tr>\n",
       "    <tr>\n",
       "      <th>4</th>\n",
       "      <td>Atos has signed a multi-year $150m contract to...</td>\n",
       "      <td>2019-06-13</td>\n",
       "      <td>National Grid selects Atos to power up digital...</td>\n",
       "      <td>Power</td>\n",
       "      <td>Transmission and Distribution</td>\n",
       "      <td>Technology</td>\n",
       "      <td>https://www.nsenergybusiness.com/wp-content/up...</td>\n",
       "    </tr>\n",
       "    <tr>\n",
       "      <th>5</th>\n",
       "      <td>Approximately 1 million tonnes of CO2 from the...</td>\n",
       "      <td>2019-06-13</td>\n",
       "      <td>Equinor to release CO2 storage data from Sleip...</td>\n",
       "      <td>Power</td>\n",
       "      <td>Fossil Fuel / Coal and Gas</td>\n",
       "      <td>Carbon Capture Projects and Technology</td>\n",
       "      <td>https://www.nsenergybusiness.com/wp-content/up...</td>\n",
       "    </tr>\n",
       "  </tbody>\n",
       "</table>\n",
       "</div>"
      ],
      "text/plain": [
       "                                        article_body article_date  \\\n",
       "0  Trina Solar recently announced that it has beg...   2019-06-13   \n",
       "1  Jumbo has been selected by wpd to transport an...   2019-06-13   \n",
       "3  French consultancy Capgemini's latest report h...   2019-06-13   \n",
       "4  Atos has signed a multi-year $150m contract to...   2019-06-13   \n",
       "5  Approximately 1 million tonnes of CO2 from the...   2019-06-13   \n",
       "\n",
       "                                       article_title category_1  \\\n",
       "0  Trina Solar launches N-type i-TOPCon double-gl...      Power   \n",
       "1  Jumbo to install WTG substructures for Yunlin ...      Power   \n",
       "3  Just 20% of energy companies are using ‘under-...      Power   \n",
       "4  National Grid selects Atos to power up digital...      Power   \n",
       "5  Equinor to release CO2 storage data from Sleip...      Power   \n",
       "\n",
       "                      category_2                              category_3  \\\n",
       "0                          Solar                                      PV   \n",
       "1                           Wind                                Offshore   \n",
       "3                     Automation                     Features & Analysis   \n",
       "4  Transmission and Distribution                              Technology   \n",
       "5     Fossil Fuel / Coal and Gas  Carbon Capture Projects and Technology   \n",
       "\n",
       "                                          image_link  \n",
       "0  https://www.nsenergybusiness.com/wp-content/up...  \n",
       "1  https://www.nsenergybusiness.com/wp-content/up...  \n",
       "3  https://www.nsenergybusiness.com/wp-content/up...  \n",
       "4  https://www.nsenergybusiness.com/wp-content/up...  \n",
       "5  https://www.nsenergybusiness.com/wp-content/up...  "
      ]
     },
     "execution_count": 4,
     "metadata": {},
     "output_type": "execute_result"
    }
   ],
   "source": [
    "#first convert the date to datetime type\n",
    "df.article_date = pd.to_datetime(df.article_date)\n",
    "# get only the data from 2019 and drop any empty data\n",
    "df = df[(df['article_date'].dt.year == 2019)]\n",
    "df = df.dropna(how='all')\n",
    "#looking at the data\n",
    "\n",
    "df.head()"
   ]
  },
  {
   "cell_type": "code",
   "execution_count": 6,
   "metadata": {},
   "outputs": [],
   "source": [
    "#get only the full articles\n",
    "articles = df.article_body.unique()\n"
   ]
  },
  {
   "cell_type": "code",
   "execution_count": 7,
   "metadata": {},
   "outputs": [],
   "source": [
    "list_entities = []\n",
    "list_index = []\n",
    "list_ent_label = []\n",
    "article_counter = 0"
   ]
  },
  {
   "cell_type": "code",
   "execution_count": 8,
   "metadata": {},
   "outputs": [],
   "source": [
    "for doc in nlp.pipe(articles[0:10], batch_size=10000, n_threads=3): \n",
    "    for ent in doc.ents: \n",
    "        list_entities.append(ent.text)\n",
    "        list_index.append(article_counter)\n",
    "        list_ent_label.append(ent.label_)\n",
    "    article_counter+=1\n",
    "        "
   ]
  },
  {
   "cell_type": "code",
   "execution_count": 24,
   "metadata": {},
   "outputs": [],
   "source": [
    "x = Counter(list_ent_label)"
   ]
  },
  {
   "cell_type": "code",
   "execution_count": 26,
   "metadata": {},
   "outputs": [
    {
     "data": {
      "text/plain": [
       "<BarContainer object of 18 artists>"
      ]
     },
     "execution_count": 26,
     "metadata": {},
     "output_type": "execute_result"
    },
    {
     "data": {
      "image/png": "[encoded data removed]",
      "text/plain": [
       "<Figure size 1440x720 with 1 Axes>"
      ]
     },
     "metadata": {
      "needs_background": "light"
     },
     "output_type": "display_data"
    }
   ],
   "source": [
    "fig = plt.figure(figsize=(20,10))\n",
    "plt.bar(*zip(*x.items()))"
   ]
  },
  {
   "cell_type": "code",
   "execution_count": 10,
   "metadata": {},
   "outputs": [],
   "source": [
    "df_1 = pd.DataFrame({'index': list_index, 'ents': list_entities, 'ent_label': list_ent_label})"
   ]
  },
  {
   "cell_type": "code",
   "execution_count": 41,
   "metadata": {},
   "outputs": [
    {
     "data": {
      "text/html": [
       "<div>\n",
       "<style scoped>\n",
       "    .dataframe tbody tr th:only-of-type {\n",
       "        vertical-align: middle;\n",
       "    }\n",
       "\n",
       "    .dataframe tbody tr th {\n",
       "        vertical-align: top;\n",
       "    }\n",
       "\n",
       "    .dataframe thead th {\n",
       "        text-align: right;\n",
       "    }\n",
       "</style>\n",
       "<table border=\"1\" class=\"dataframe\">\n",
       "  <thead>\n",
       "    <tr style=\"text-align: right;\">\n",
       "      <th></th>\n",
       "      <th>index</th>\n",
       "      <th>ents</th>\n",
       "      <th>ent_label</th>\n",
       "    </tr>\n",
       "  </thead>\n",
       "  <tbody>\n",
       "    <tr>\n",
       "      <th>0</th>\n",
       "      <td>0</td>\n",
       "      <td>Trina Solar</td>\n",
       "      <td>ORG</td>\n",
       "    </tr>\n",
       "    <tr>\n",
       "      <th>1</th>\n",
       "      <td>0</td>\n",
       "      <td>N-type</td>\n",
       "      <td>ORG</td>\n",
       "    </tr>\n",
       "  </tbody>\n",
       "</table>\n",
       "</div>"
      ],
      "text/plain": [
       "   index         ents ent_label\n",
       "0      0  Trina Solar       ORG\n",
       "1      0       N-type       ORG"
      ]
     },
     "execution_count": 41,
     "metadata": {},
     "output_type": "execute_result"
    }
   ],
   "source": [
    "df_1.head(2)"
   ]
  },
  {
   "cell_type": "code",
   "execution_count": 28,
   "metadata": {},
   "outputs": [],
   "source": [
    "df['test'] = df_1.ent_label"
   ]
  },
  {
   "cell_type": "code",
   "execution_count": 29,
   "metadata": {},
   "outputs": [
    {
     "data": {
      "text/html": [
       "<div>\n",
       "<style scoped>\n",
       "    .dataframe tbody tr th:only-of-type {\n",
       "        vertical-align: middle;\n",
       "    }\n",
       "\n",
       "    .dataframe tbody tr th {\n",
       "        vertical-align: top;\n",
       "    }\n",
       "\n",
       "    .dataframe thead th {\n",
       "        text-align: right;\n",
       "    }\n",
       "</style>\n",
       "<table border=\"1\" class=\"dataframe\">\n",
       "  <thead>\n",
       "    <tr style=\"text-align: right;\">\n",
       "      <th></th>\n",
       "      <th>article_body</th>\n",
       "      <th>article_date</th>\n",
       "      <th>article_title</th>\n",
       "      <th>category_1</th>\n",
       "      <th>category_2</th>\n",
       "      <th>category_3</th>\n",
       "      <th>image_link</th>\n",
       "      <th>test</th>\n",
       "    </tr>\n",
       "  </thead>\n",
       "  <tbody>\n",
       "    <tr>\n",
       "      <th>0</th>\n",
       "      <td>Trina Solar recently announced that it has beg...</td>\n",
       "      <td>2019-06-13</td>\n",
       "      <td>Trina Solar launches N-type i-TOPCon double-gl...</td>\n",
       "      <td>Power</td>\n",
       "      <td>Solar</td>\n",
       "      <td>PV</td>\n",
       "      <td>https://www.nsenergybusiness.com/wp-content/up...</td>\n",
       "      <td>ORG</td>\n",
       "    </tr>\n",
       "    <tr>\n",
       "      <th>1</th>\n",
       "      <td>Jumbo has been selected by wpd to transport an...</td>\n",
       "      <td>2019-06-13</td>\n",
       "      <td>Jumbo to install WTG substructures for Yunlin ...</td>\n",
       "      <td>Power</td>\n",
       "      <td>Wind</td>\n",
       "      <td>Offshore</td>\n",
       "      <td>https://www.nsenergybusiness.com/wp-content/up...</td>\n",
       "      <td>ORG</td>\n",
       "    </tr>\n",
       "    <tr>\n",
       "      <th>3</th>\n",
       "      <td>French consultancy Capgemini's latest report h...</td>\n",
       "      <td>2019-06-13</td>\n",
       "      <td>Just 20% of energy companies are using ‘under-...</td>\n",
       "      <td>Power</td>\n",
       "      <td>Automation</td>\n",
       "      <td>Features &amp; Analysis</td>\n",
       "      <td>https://www.nsenergybusiness.com/wp-content/up...</td>\n",
       "      <td>ORG</td>\n",
       "    </tr>\n",
       "    <tr>\n",
       "      <th>4</th>\n",
       "      <td>Atos has signed a multi-year $150m contract to...</td>\n",
       "      <td>2019-06-13</td>\n",
       "      <td>National Grid selects Atos to power up digital...</td>\n",
       "      <td>Power</td>\n",
       "      <td>Transmission and Distribution</td>\n",
       "      <td>Technology</td>\n",
       "      <td>https://www.nsenergybusiness.com/wp-content/up...</td>\n",
       "      <td>CARDINAL</td>\n",
       "    </tr>\n",
       "    <tr>\n",
       "      <th>5</th>\n",
       "      <td>Approximately 1 million tonnes of CO2 from the...</td>\n",
       "      <td>2019-06-13</td>\n",
       "      <td>Equinor to release CO2 storage data from Sleip...</td>\n",
       "      <td>Power</td>\n",
       "      <td>Fossil Fuel / Coal and Gas</td>\n",
       "      <td>Carbon Capture Projects and Technology</td>\n",
       "      <td>https://www.nsenergybusiness.com/wp-content/up...</td>\n",
       "      <td>CARDINAL</td>\n",
       "    </tr>\n",
       "  </tbody>\n",
       "</table>\n",
       "</div>"
      ],
      "text/plain": [
       "                                        article_body article_date  \\\n",
       "0  Trina Solar recently announced that it has beg...   2019-06-13   \n",
       "1  Jumbo has been selected by wpd to transport an...   2019-06-13   \n",
       "3  French consultancy Capgemini's latest report h...   2019-06-13   \n",
       "4  Atos has signed a multi-year $150m contract to...   2019-06-13   \n",
       "5  Approximately 1 million tonnes of CO2 from the...   2019-06-13   \n",
       "\n",
       "                                       article_title category_1  \\\n",
       "0  Trina Solar launches N-type i-TOPCon double-gl...      Power   \n",
       "1  Jumbo to install WTG substructures for Yunlin ...      Power   \n",
       "3  Just 20% of energy companies are using ‘under-...      Power   \n",
       "4  National Grid selects Atos to power up digital...      Power   \n",
       "5  Equinor to release CO2 storage data from Sleip...      Power   \n",
       "\n",
       "                      category_2                              category_3  \\\n",
       "0                          Solar                                      PV   \n",
       "1                           Wind                                Offshore   \n",
       "3                     Automation                     Features & Analysis   \n",
       "4  Transmission and Distribution                              Technology   \n",
       "5     Fossil Fuel / Coal and Gas  Carbon Capture Projects and Technology   \n",
       "\n",
       "                                          image_link      test  \n",
       "0  https://www.nsenergybusiness.com/wp-content/up...       ORG  \n",
       "1  https://www.nsenergybusiness.com/wp-content/up...       ORG  \n",
       "3  https://www.nsenergybusiness.com/wp-content/up...       ORG  \n",
       "4  https://www.nsenergybusiness.com/wp-content/up...  CARDINAL  \n",
       "5  https://www.nsenergybusiness.com/wp-content/up...  CARDINAL  "
      ]
     },
     "execution_count": 29,
     "metadata": {},
     "output_type": "execute_result"
    }
   ],
   "source": [
    "df.head()"
   ]
  },
  {
   "cell_type": "code",
   "execution_count": null,
   "metadata": {},
   "outputs": [],
   "source": [
    "df_2 =  pd.DataFrame(df_1['ents'].groupby(df_1['ent_label']).size())\n"
   ]
  },
  {
   "cell_type": "code",
   "execution_count": null,
   "metadata": {},
   "outputs": [],
   "source": [
    "df_2.columns"
   ]
  },
  {
   "cell_type": "code",
   "execution_count": null,
   "metadata": {},
   "outputs": [],
   "source": [
    "df_org = df_1[(df_1['ent_label'] == 'ORG')]\n",
    "df_country = df_1[(df_1['ent_label'] == 'GPE')]"
   ]
  },
  {
   "cell_type": "code",
   "execution_count": null,
   "metadata": {},
   "outputs": [],
   "source": [
    "df_org.head()"
   ]
  },
  {
   "cell_type": "code",
   "execution_count": null,
   "metadata": {},
   "outputs": [],
   "source": [
    "# words_freq_table =  pd.DataFrame(frequency_of_words.items()) \n",
    "freq = Counter(df_country.ents)\n",
    "country_most = pd.DataFrame(freq.items())\n",
    "len(country_most)"
   ]
  },
  {
   "cell_type": "code",
   "execution_count": null,
   "metadata": {},
   "outputs": [],
   "source": [
    "country_most"
   ]
  },
  {
   "cell_type": "code",
   "execution_count": null,
   "metadata": {},
   "outputs": [],
   "source": [
    "tags_1 = Counter(df['category_2'])\n",
    "\n",
    "fig = plt.figure(figsize=(20,10))\n",
    "plt.bar(*zip(*tags_1.items()))\n",
    "# plt.xticks(rotation=90)"
   ]
  },
  {
   "cell_type": "code",
   "execution_count": null,
   "metadata": {},
   "outputs": [],
   "source": [
    "fig = plt.figure(figsize=(20,10))\n",
    "plt.bar(df_2.index, df_2.ents)"
   ]
  },
  {
   "cell_type": "code",
   "execution_count": null,
   "metadata": {},
   "outputs": [],
   "source": [
    "spacy.explain('NORP')"
   ]
  },
  {
   "cell_type": "code",
   "execution_count": null,
   "metadata": {},
   "outputs": [],
   "source": [
    "text = nlp(articles[0])"
   ]
  },
  {
   "cell_type": "code",
   "execution_count": null,
   "metadata": {},
   "outputs": [],
   "source": [
    "x = []\n",
    "for article in articles[0:5]:\n",
    "    x.append(nlp(article))\n",
    "    \n",
    "    "
   ]
  },
  {
   "cell_type": "code",
   "execution_count": null,
   "metadata": {},
   "outputs": [],
   "source": [
    "displacy.render(x[1],style=\"ent\",jupyter=True)"
   ]
  },
  {
   "cell_type": "code",
   "execution_count": null,
   "metadata": {},
   "outputs": [],
   "source": [
    "# Use what is already available\n",
    "df.groupby(df.category_2 == 'Power').count()"
   ]
  },
  {
   "cell_type": "code",
   "execution_count": 37,
   "metadata": {},
   "outputs": [
    {
     "data": {
      "text/plain": [
       "\"Trina Solar recently announced that it has begun mass production of N-type i-TOPCon double-glass bifacial modules.\\nImage: Trina Solar's new high performanceTSM-NEG15MC.20(II) module incorporates i-TOPCon cell technology. Photo courtesy of Trina Solar Co., Ltd.The best front side power output of a module with 144 half-cut i-TOPCon cells reaches 425 Wp, and the best module efficiency reaches 20.7%.The new i-TOPCon double glass PV modules integrate these N-type bifacial i-TOPCon cells with over 80% bifaciality, multi-busbar (MBB) design, full square monocrystalline cells, dual-side and half-cut technologies. The highly efficient modules feature a lower temperature coefficient and low light induced degradation (LID), greatly improving the actual power output. They also provide an extra 5% to 30% power generation from their back side, and feature a 30- year linear power warranty.The world record efficiency of 25.8% on small-area, single side TOPCon cells developed by Fraunhofer ISE has driven research and development of passivated contact solar cells by institutes and industry. In 2015, the State Key Laboratory of Photovoltaic Science and Technology (SKL PVST) of Trina Solar started the research on a large-area bifacial TOPCon cell that is aimed for industrial mass production, naming it i-TOPCon cell. In 2019, Trina Solar achieved a front side median efficiency over 23% on i-TOPCon cells.The i-TOPCon cell has a front boron emitter and a rear full-area passivating contact. After its development by the SKL PVST, it was transferred into full-scale mass production in a workshop at Trina Solar’s Changzhou factory. In May 2019, Trina Solar announced that its SKL PVST has set a new world record of 24.58% for such N-type mono-crystalline silicon (c-Si) i-TOPCon solar cells. This result was independently confirmed by the ISFH CalTeC in Germany with a full-area measurement (244 cm2) including busbars.Source: Company Press Release\""
      ]
     },
     "execution_count": 37,
     "metadata": {},
     "output_type": "execute_result"
    }
   ],
   "source": [
    "articles[0]"
   ]
  },
  {
   "cell_type": "code",
   "execution_count": 39,
   "metadata": {},
   "outputs": [],
   "source": [
    "x = nlp(articles[0])"
   ]
  },
  {
   "cell_type": "code",
   "execution_count": 47,
   "metadata": {},
   "outputs": [
    {
     "name": "stdout",
     "output_type": "stream",
     "text": [
      "Trina Solar ORG\n",
      "N-type ORG\n",
      "Trina Solar's ORG\n",
      "Trina Solar Co., Ltd ORG\n",
      "PV\n",
      "N- ORG\n",
      "MBB ORG\n",
      "Fraunhofer ISE ORG\n",
      "the State Key Laboratory of Photovoltaic Science and Technology ORG\n",
      "SKL ORG\n",
      "Trina Solar ORG\n",
      "Trina Solar ORG\n",
      "the SKL PVST ORG\n",
      "Trina Solar’s Changzhou ORG\n",
      "Trina Solar ORG\n",
      "SKL ORG\n",
      "the ISFH CalTeC ORG\n",
      "Germany\n"
     ]
    }
   ],
   "source": [
    "for ent in x.ents:\n",
    "    if ent.label_ == 'ORG':\n",
    "        print(ent.text, ent.label_)\n",
    "    if ent.label_ == 'GPE':\n",
    "        print(ent.text)"
   ]
  },
  {
   "cell_type": "code",
   "execution_count": null,
   "metadata": {},
   "outputs": [],
   "source": []
  }
 ],
 "metadata": {
  "kernelspec": {
   "display_name": "Python 3",
   "language": "python",
   "name": "python3"
  },
  "language_info": {
   "codemirror_mode": {
    "name": "ipython",
    "version": 3
   },
   "file_extension": ".py",
   "mimetype": "text/x-python",
   "name": "python",
   "nbconvert_exporter": "python",
   "pygments_lexer": "ipython3",
   "version": "3.7.3"
  }
 },
 "nbformat": 4,
 "nbformat_minor": 2
}
